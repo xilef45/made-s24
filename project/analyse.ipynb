{
 "cells": [
  {
   "metadata": {},
   "cell_type": "markdown",
   "source": "As we have the data of the two tables grouped by the jurisdiction, we can now merge the two tables by the jurisdiction. If there is more than one carbonprice the AVG is comuted. ",
   "id": "8cb007f98e725219"
  },
  {
   "metadata": {
    "ExecuteTime": {
     "end_time": "2024-06-30T11:01:13.073253Z",
     "start_time": "2024-06-30T11:01:13.058289Z"
    }
   },
   "cell_type": "code",
   "source": [
    "import sqlite3\n",
    "import datetime\n",
    "\n",
    "conn = sqlite3.connect(\"../data/data.sqlite\")\n",
    "cursor = conn.cursor()\n",
    "\n",
    "cursor.execute(\"Select * from emissions;\")\n",
    "sql_result_emmissions = cursor.fetchall()\n",
    "\n",
    "current_year = datetime.datetime.now().year\n",
    "avg_year_parts = []\n",
    "for year in range(1990, current_year + 1):\n",
    "    avg_year_parts.append(f\"AVG(\\\"{year}\\\")\")\n",
    "avg_year_query_part = \", \".join(avg_year_parts)\n",
    "select_statement = f\"\\\"Jurisdiction Covered\\\", Region, \\\"Start Date\\\", {avg_year_query_part}\"\n",
    "sql_query = f\"SELECT {select_statement} FROM carbonprice GROUP BY \\\"Jurisdiction Covered\\\";\"\n",
    "cursor.execute(sql_query)\n",
    "sql_result_carbonprice = cursor.fetchall()\n",
    "conn.close()"
   ],
   "id": "3066b0933bd5ff05",
   "outputs": [],
   "execution_count": 2
  },
  {
   "metadata": {},
   "cell_type": "markdown",
   "source": "Therefor we need to find the common jurisdictions in both tables.",
   "id": "5eb1487891388d57"
  },
  {
   "metadata": {
    "ExecuteTime": {
     "end_time": "2024-06-30T11:01:18.885553Z",
     "start_time": "2024-06-30T11:01:18.874551Z"
    }
   },
   "cell_type": "code",
   "source": [
    "emmissions_jurisdictions = set([row[1] for row in sql_result_emmissions])\n",
    "carbonprice_jurisdictions = set([row[0] for row in sql_result_carbonprice])\n",
    "common_jurisdictions = emmissions_jurisdictions.intersection(carbonprice_jurisdictions)\n",
    "\n",
    "result_emmissions = [row for row in sql_result_emmissions if row[1] in common_jurisdictions]\n",
    "result_carbonprice = [row for row in sql_result_carbonprice if row[0] in common_jurisdictions]"
   ],
   "id": "1cee55c6bc1e0ca6",
   "outputs": [],
   "execution_count": 3
  },
  {
   "metadata": {},
   "cell_type": "markdown",
   "source": [
    "With the common jurisdictions we can now merge the data of the two tables. We will merge the data by the jurisdiction and the year. So that the data is in format:\n",
    "(jurisdiction, year, emissions_data, carbonprice_data)"
   ],
   "id": "bdce0690a3959814"
  },
  {
   "metadata": {
    "ExecuteTime": {
     "end_time": "2024-06-30T11:01:22.887997Z",
     "start_time": "2024-06-30T11:01:22.873009Z"
    }
   },
   "cell_type": "code",
   "source": [
    "merged_data = []\n",
    "for jurisdiction in common_jurisdictions:\n",
    "    jurisdiction_emissions = [row for row in result_emmissions if row[1] == jurisdiction]\n",
    "    jurisdiction_carbonprice = [row for row in result_carbonprice if row[0] == jurisdiction]\n",
    "    emissions_data_juri = jurisdiction_emissions[0]\n",
    "    carbonprice_data_juri = jurisdiction_carbonprice[0]\n",
    "    merged_data_perCountry = []\n",
    "    for year_index, year in enumerate(range(1990, current_year + 1)):\n",
    "        emissions_index = year - 1970 + 2\n",
    "        carbonprice_index = year_index + 4\n",
    "\n",
    "        result_value = (jurisdiction, year,\n",
    "                        emissions_data_juri[emissions_index] if emissions_index < len(emissions_data_juri) else None,\n",
    "                        carbonprice_data_juri[carbonprice_index] if carbonprice_index < len(carbonprice_data_juri) else None)\n",
    "        merged_data_perCountry.append(result_value)\n",
    "    merged_data.append(merged_data_perCountry)\n",
    "\n",
    "\n",
    "merged_data = [[entry for entry in country_data if entry[2] is not None and entry[3] is not None] for country_data in merged_data]\n",
    "merged_data = [country_data for country_data in merged_data if len(country_data) >= 1]"
   ],
   "id": "b000ce5617892bb7",
   "outputs": [],
   "execution_count": 4
  },
  {
   "metadata": {},
   "cell_type": "markdown",
   "source": "Now we can check for a correlation between the carbonprice and the emissions.",
   "id": "6cf22e099e6a2d5b"
  },
  {
   "metadata": {
    "ExecuteTime": {
     "end_time": "2024-06-30T11:01:27.254713Z",
     "start_time": "2024-06-30T11:01:26.729481Z"
    }
   },
   "cell_type": "code",
   "source": [
    "from scipy.stats import pearsonr\n",
    "pearsonr_results = []\n",
    "for country_data in merged_data:\n",
    "    emissions = [row[2] for row in country_data]\n",
    "    carbon_prices = [row[3] for row in country_data]\n",
    "    if len(emissions) < 2 or len(carbon_prices) < 2:\n",
    "        continue\n",
    "    correlation_coefficient, p_value = pearsonr(emissions, carbon_prices)\n",
    "\n",
    "    pearsonr_results.append((country_data[0][0], correlation_coefficient, p_value))"
   ],
   "id": "e5d88bb56ba0507",
   "outputs": [
    {
     "name": "stderr",
     "output_type": "stream",
     "text": [
      "C:\\Users\\Felix\\AppData\\Local\\Temp\\ipykernel_13144\\1422593431.py:8: ConstantInputWarning: An input array is constant; the correlation coefficient is not defined.\n",
      "  correlation_coefficient, p_value = pearsonr(emissions, carbon_prices)\n"
     ]
    }
   ],
   "execution_count": 5
  },
  {
   "metadata": {},
   "cell_type": "markdown",
   "source": "These are the results of the correlation.",
   "id": "f6ccec0115bac744"
  },
  {
   "metadata": {},
   "cell_type": "markdown",
   "source": "",
   "id": "8af4ca0ed6ff9dab"
  },
  {
   "metadata": {
    "ExecuteTime": {
     "end_time": "2024-06-30T11:09:55.429569Z",
     "start_time": "2024-06-30T11:09:55.416569Z"
    }
   },
   "cell_type": "code",
   "source": [
    "import numpy as np\n",
    "pearsonr_results = [row for row in pearsonr_results if not np.isnan(row[1]) and not np.isnan(row[2])]\n",
    "max_correlation_coefficient = max([row[1] for row in pearsonr_results])\n",
    "min_correlation_coefficient = min([row[1] for row in pearsonr_results])\n",
    "avg_correlation_coefficient = np.mean([row[1] for row in pearsonr_results])\n",
    "std_correlation_coefficient = np.std([row[1] for row in pearsonr_results])\n",
    "\n",
    "max_p_value = max([row[2] for row in pearsonr_results])\n",
    "min_p_value = min([row[2] for row in pearsonr_results])\n",
    "avg_p_value = np.mean([row[2] for row in pearsonr_results])\n",
    "std_p_value = np.std([row[2] for row in pearsonr_results])\n",
    "\n",
    "print(f\"Max correlation coefficient: {max_correlation_coefficient}\")\n",
    "print(f\"Min correlation coefficient: {min_correlation_coefficient}\")\n",
    "print(f\"Avg correlation coefficient: {avg_correlation_coefficient}\")\n",
    "print(f\"Std correlation coefficient: {std_correlation_coefficient}\")\n",
    "\n",
    "print(f\"Max p value: {max_p_value}\")\n",
    "print(f\"Min p value: {min_p_value}\")\n",
    "print(f\"Avg p value: {avg_p_value}\")\n",
    "print(f\"Std p value: {std_p_value}\")"
   ],
   "id": "f0ef039c69c90ef2",
   "outputs": [
    {
     "name": "stdout",
     "output_type": "stream",
     "text": [
      "Max correlation coefficient: 1.0\n",
      "Min correlation coefficient: -1.0\n",
      "Avg correlation coefficient: -0.35327103045626107\n",
      "Std correlation coefficient: 0.5674591573927533\n",
      "Max p value: 1.0\n",
      "Min p value: 4.378645316693223e-10\n",
      "Avg p value: 0.24655524910583237\n",
      "Std p value: 0.3139993556109486\n"
     ]
    }
   ],
   "execution_count": 7
  },
  {
   "metadata": {},
   "cell_type": "markdown",
   "source": "Now we can visualize the data.",
   "id": "4af7747e031b554b"
  },
  {
   "metadata": {},
   "cell_type": "code",
   "outputs": [],
   "execution_count": null,
   "source": [
    "import matplotlib.pyplot as plt\n",
    "# draw a plot of the results\n",
    "plt.scatter([row[1] for row in pearsonr_results], [row[2] for row in pearsonr_results])\n",
    "plt.xlabel(\"correlation coefficient\")\n",
    "plt.ylabel(\"p-value\")\n",
    "plt.title(\"Analyse of the correlation between emissions and carbon prices\")\n",
    "plt.show()\n",
    "\n",
    "# draw a plot of the top ten emissions countries with carbon prices\n",
    "emissions_sum = []\n",
    "for row in result_emmissions:\n",
    "    emissions_sum.append((row[1], sum(row[2:])))\n",
    "latest_emissions_per_country = {}\n",
    "sorted_emissions = sorted(emissions_sum, key=lambda x: x[1], reverse=True)\n",
    "top_ten_emitting_countries = sorted_emissions[:10]\n",
    "top_ten_emitting_countries_carbonPrice = []\n",
    "top_ten_emitting_countries_emissions = []\n",
    "for country in top_ten_emitting_countries:\n",
    "    for row in result_carbonprice:\n",
    "        if row[0] == country[0]:\n",
    "            top_ten_emitting_countries_carbonPrice.append(row)\n",
    "            break\n",
    "    for row in result_emmissions:\n",
    "        if row[1] == country[0]:\n",
    "            top_ten_emitting_countries_emissions.append(row)\n",
    "            break\n",
    "\n",
    "\n",
    "years = list(range(1970, 2022))\n",
    "for row in top_ten_emitting_countries_emissions:\n",
    "    plt.plot(years, row[3:], label=row[1])\n",
    "plt.title('Total Emissions of the top-ten emitting \\n Jurisdictions over the years')\n",
    "plt.xlabel('Year')\n",
    "plt.ylabel('Total Emissions')\n",
    "plt.legend(title='Jurisdiction', bbox_to_anchor=(1.05, 1), loc='upper left')\n",
    "plt.tight_layout()\n",
    "plt.show()\n",
    "\n",
    "years = list(range(1990, current_year))\n",
    "for row in top_ten_emitting_countries_carbonPrice:\n",
    "    plt.plot(years, row[4:], label=row[0])\n",
    "plt.title('Average Carbon Price of the top-ten emitting \\n Jurisdictions with carbon price over the years')\n",
    "plt.xlabel('Year')\n",
    "plt.ylabel('Carbon Price')\n",
    "plt.legend(title='Jurisdiction', bbox_to_anchor=(1.05, 1), loc='upper left')\n",
    "plt.tight_layout()\n",
    "plt.show()"
   ],
   "id": "6c50b9d0f1db6306"
  }
 ],
 "metadata": {
  "kernelspec": {
   "display_name": "Python 3",
   "language": "python",
   "name": "python3"
  },
  "language_info": {
   "codemirror_mode": {
    "name": "ipython",
    "version": 2
   },
   "file_extension": ".py",
   "mimetype": "text/x-python",
   "name": "python",
   "nbconvert_exporter": "python",
   "pygments_lexer": "ipython2",
   "version": "2.7.6"
  }
 },
 "nbformat": 4,
 "nbformat_minor": 5
}
